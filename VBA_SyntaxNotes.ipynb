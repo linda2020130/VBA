{
 "cells": [
  {
   "cell_type": "markdown",
   "metadata": {},
   "source": [
    "# VBA 語法整理"
   ]
  },
  {
   "cell_type": "markdown",
   "metadata": {},
   "source": [
    "## 抓資料末欄/列等相關語法"
   ]
  },
  {
   "cell_type": "code",
   "execution_count": null,
   "metadata": {},
   "outputs": [],
   "source": [
    "toalRow = Sheets(\"Sheet1\").Range(\"A1\").End(xlDown).Row\n",
    "totalColumn = Sheets(\"Sheet1\").Range(\"A1\").End(xlToRight).Column\n",
    "' 數字轉字母(e.g. 1->A, 2->B...)\n",
    "Chr(totalColumn + 64)"
   ]
  },
  {
   "cell_type": "markdown",
   "metadata": {},
   "source": [
    "## 刪除相關語法"
   ]
  },
  {
   "cell_type": "markdown",
   "metadata": {},
   "source": [
    "Delete row 2"
   ]
  },
  {
   "cell_type": "code",
   "execution_count": null,
   "metadata": {},
   "outputs": [],
   "source": [
    "Sheets(\"Sheet1\").rows(2).Delete"
   ]
  },
  {
   "cell_type": "markdown",
   "metadata": {},
   "source": [
    "Delete column A"
   ]
  },
  {
   "cell_type": "code",
   "execution_count": null,
   "metadata": {},
   "outputs": [],
   "source": [
    "Sheets(\"Sheet1\").columns(\"A\").Delete"
   ]
  },
  {
   "cell_type": "markdown",
   "metadata": {},
   "source": [
    "Delete data from row 2 to bottom of column A in Sheet1"
   ]
  },
  {
   "cell_type": "code",
   "execution_count": null,
   "metadata": {},
   "outputs": [],
   "source": [
    "Sheets(\"Sheet1\").rows(\"2:2\").Select\n",
    "Range(Selection, Selection.End(xlDown)).Select\n",
    "Selection.Delete Shift:=xlUp"
   ]
  },
  {
   "cell_type": "markdown",
   "metadata": {},
   "source": [
    "Delete data from row 2 to bottom of column A in Sheet1 (可指定特定欄的資料尾端)"
   ]
  },
  {
   "cell_type": "code",
   "execution_count": null,
   "metadata": {},
   "outputs": [],
   "source": [
    "Sheets(\"Sheet1\").rows(\"2:\" & Range(\"A2\").End(xlDown).row).Delete"
   ]
  },
  {
   "cell_type": "markdown",
   "metadata": {},
   "source": [
    "## 清除相關語法"
   ]
  },
  {
   "cell_type": "markdown",
   "metadata": {},
   "source": [
    "Clear content in current region(以指定儲存格為基準, 直到碰到空白行列)"
   ]
  },
  {
   "cell_type": "code",
   "execution_count": null,
   "metadata": {},
   "outputs": [],
   "source": [
    "Sheets(\"Sheet1\").Range(\"A1\").CurrentRegion.Clear"
   ]
  },
  {
   "cell_type": "markdown",
   "metadata": {},
   "source": [
    "## 複製貼上相關語法"
   ]
  },
  {
   "cell_type": "markdown",
   "metadata": {},
   "source": [
    "Copy data from certain columns to bottom of column B in Sheet1"
   ]
  },
  {
   "cell_type": "code",
   "execution_count": null,
   "metadata": {},
   "outputs": [],
   "source": [
    "' Copy all\n",
    "Sheets(\"Sheet1\").Range(\"B2:E\" & Range(\"B2\").End(xlDown).row).Copy\n",
    "\n",
    "' Copy visible cells only\n",
    "Sheets(\"Sheet1\").Range(\"B2:E\" & Range(\"B2\").End(xlDown).row).SpecialCells(xlCellTypeVisible).Copy"
   ]
  },
  {
   "cell_type": "markdown",
   "metadata": {},
   "source": [
    "Paste data to certain destination"
   ]
  },
  {
   "cell_type": "code",
   "execution_count": null,
   "metadata": {},
   "outputs": [],
   "source": [
    "' Paste all\n",
    "Sheets(\"Sheet2\").Range(\"A1\").Paste\n",
    "Application.CutCopyMode = False\n",
    "\n",
    "' Paste value only \n",
    "Sheets(\"Sheet2\").Range(\"A1\").PasteSpecial xlPasteValues\n",
    "Application.CutCopyMode = False\n",
    "\n",
    "' Paste format only\n",
    "Sheets(\"Sheet2\").Range(\"A1\").PasteSpecial xlPasteFormats\n",
    "Application.CutCopyMode = False\n",
    "\n",
    "' Paste formula only\n",
    "Sheets(\"Sheet2\").Range(\"A1\").PasteSpecial xlPasteFormulas\n",
    "Application.CutCopyMode = False"
   ]
  },
  {
   "cell_type": "markdown",
   "metadata": {},
   "source": [
    "Copy and paste in one line (each line work the same) "
   ]
  },
  {
   "cell_type": "code",
   "execution_count": null,
   "metadata": {},
   "outputs": [],
   "source": [
    "Sheets(\"Sheet1\").Range(\"B2:E2\").Copy Sheets(\"Sheet2\").Range(\"B1:E1\")\n",
    "Sheets(\"Sheet1\").Range(\"B2:E2\").Copy Sheets(\"Sheet2\").Range(\"B1\")"
   ]
  },
  {
   "cell_type": "markdown",
   "metadata": {},
   "source": [
    "## 修改儲存格內公式"
   ]
  },
  {
   "cell_type": "markdown",
   "metadata": {},
   "source": [
    "Change formula of certain cell in Sheet1"
   ]
  },
  {
   "cell_type": "code",
   "execution_count": null,
   "metadata": {},
   "outputs": [],
   "source": [
    "Sheets(\"Sheet1\").Range(\"F1:G1\").FormulaR1C1 = \"=INDEX(顯示值所在陣列,查詢索引值,顯示值所在第?個欄位)\""
   ]
  },
  {
   "cell_type": "markdown",
   "metadata": {},
   "source": [
    "Change formula of certain cell - formula=IF(sum($A1:$E1)=0,0,1) (鎖住column)"
   ]
  },
  {
   "cell_type": "code",
   "execution_count": null,
   "metadata": {},
   "outputs": [],
   "source": [
    "Sheets(\"Sheet1\").Range(\"F1\").FormulaR1C1 = \"=IF(SUM(RC1:RC5)=0,0,1)\""
   ]
  },
  {
   "cell_type": "markdown",
   "metadata": {},
   "source": [
    "Range(\"J9\") = Range(\"B9\") => row keeps unchanged; column shifts from J to B (-8)"
   ]
  },
  {
   "cell_type": "code",
   "execution_count": null,
   "metadata": {},
   "outputs": [],
   "source": [
    "Sheets(\"Sheet1\").Range(\"J9\").FormulaR1C1 = \"=RC[-8]\""
   ]
  },
  {
   "cell_type": "markdown",
   "metadata": {},
   "source": [
    "Range(\"K9\") = Range(\"J13\") => row shifts from 9 to 13 (+4); column shifts from K to J (-1)"
   ]
  },
  {
   "cell_type": "code",
   "execution_count": null,
   "metadata": {},
   "outputs": [],
   "source": [
    "Sheets(\"Sheet1\").Range(\"K9\").FormulaR1C1 = \"=R[4]C[-1]\""
   ]
  },
  {
   "cell_type": "markdown",
   "metadata": {},
   "source": [
    "只修改篩選出來的資料列\n"
   ]
  },
  {
   "cell_type": "code",
   "execution_count": null,
   "metadata": {},
   "outputs": [],
   "source": [
    "Sheets(\"Sheet1\").Range(\"A1:D100\").SpecialCells(xlCellTypeVisible).FormulaR1C1 = \"=R[1]C\""
   ]
  },
  {
   "cell_type": "markdown",
   "metadata": {},
   "source": [
    "## 修改名稱管理員內的公式"
   ]
  },
  {
   "cell_type": "markdown",
   "metadata": {},
   "source": [
    "### 名稱範圍會隨著資料的增減改變"
   ]
  },
  {
   "cell_type": "markdown",
   "metadata": {},
   "source": [
    "Change formula of \"Column A\" in Name Manager (公式 -> 名稱管理員) to catch different numbers of row if data changed <br>\n",
    "\"Column A\" will be used to make a drop down list without header(row1)"
   ]
  },
  {
   "cell_type": "code",
   "execution_count": null,
   "metadata": {},
   "outputs": [],
   "source": [
    "ActiveWorkbook.Names(\"Column A\").RefersToR1C1 = \"=OFFSET(Sheet2!R2C1,,,COUNTA(Sheet2!C1)-1)\""
   ]
  },
  {
   "cell_type": "markdown",
   "metadata": {},
   "source": [
    "## 填滿相關語法"
   ]
  },
  {
   "cell_type": "markdown",
   "metadata": {},
   "source": [
    "### 已知填滿之目的地"
   ]
  },
  {
   "cell_type": "markdown",
   "metadata": {},
   "source": [
    "Autofill formula of Range(\"A1:F1\") with range(\"A1\")"
   ]
  },
  {
   "cell_type": "code",
   "execution_count": null,
   "metadata": {},
   "outputs": [],
   "source": [
    "Sheets(\"Sheet1\").Range(\"A1\").Autofill Destination:=Range(\"A1:F1\"), Type:=xlFillDefault"
   ]
  },
  {
   "cell_type": "markdown",
   "metadata": {},
   "source": [
    "Autofill formula of Range(\"A1:D2\") with range(\"A1:A2\")"
   ]
  },
  {
   "cell_type": "code",
   "execution_count": null,
   "metadata": {},
   "outputs": [],
   "source": [
    "Sheets(\"Sheet1\").Range(\"A1:A2\").Autofill Destination:=Range(\"A1:D2\"), Type:=xlFillDefault"
   ]
  },
  {
   "cell_type": "markdown",
   "metadata": {},
   "source": [
    "### 填滿至特定欄的資料末端"
   ]
  },
  {
   "cell_type": "markdown",
   "metadata": {},
   "source": [
    "Autofill columns a to c with Range(\"A2:C2\")"
   ]
  },
  {
   "cell_type": "code",
   "execution_count": null,
   "metadata": {},
   "outputs": [],
   "source": [
    "Sheets(\"Sheet1\").Range(\"A2:C2\").Autofill Destination:=Range(\"A2:C\" & Range(\"C2\").End(xlDown).row)"
   ]
  },
  {
   "cell_type": "markdown",
   "metadata": {},
   "source": [
    "## 篩選相關語法"
   ]
  },
  {
   "cell_type": "markdown",
   "metadata": {},
   "source": [
    "Turn on autoFilter at certain range"
   ]
  },
  {
   "cell_type": "code",
   "execution_count": null,
   "metadata": {},
   "outputs": [],
   "source": [
    "Sheets(\"Sheet1\").Range(\"A5:L5\").AutoFilter"
   ]
  },
  {
   "cell_type": "markdown",
   "metadata": {},
   "source": [
    "Turn off autofilter"
   ]
  },
  {
   "cell_type": "code",
   "execution_count": null,
   "metadata": {},
   "outputs": [],
   "source": [
    "Sheets(\"Sheet1\").AutoFilterMode = False"
   ]
  },
  {
   "cell_type": "markdown",
   "metadata": {},
   "source": [
    "Filter out column C (3rd column) with value = 1"
   ]
  },
  {
   "cell_type": "code",
   "execution_count": null,
   "metadata": {},
   "outputs": [],
   "source": [
    "Sheets(\"Sheet1\").Range(\"A5:L\" & Range(\"L5\").End(xlDown).row).AutoFilter Field:=3, Criteria1:=\"1\""
   ]
  },
  {
   "cell_type": "markdown",
   "metadata": {},
   "source": [
    "Filter out column F (6th column) with value = A or B or C"
   ]
  },
  {
   "cell_type": "code",
   "execution_count": null,
   "metadata": {},
   "outputs": [],
   "source": [
    "ActiveSheet.Range(\"A1:\" & Chr(totalColumn + 64) & totalRow).AutoFilter Field:=6, Criteria1:=Array( _\n",
    "    \"A\", \"B\", \"C\"), Operator:=xlFilterValues"
   ]
  },
  {
   "cell_type": "markdown",
   "metadata": {},
   "source": [
    "## 排序相關語法"
   ]
  },
  {
   "cell_type": "markdown",
   "metadata": {},
   "source": [
    "Sort by column A then B then C (priority: C>B>A) on column A to G including header on row 1"
   ]
  },
  {
   "cell_type": "code",
   "execution_count": null,
   "metadata": {},
   "outputs": [],
   "source": [
    "Dim i as integer\n",
    "i = Sheets(\"Sheet1\").Cells(rows.Count, \"G\").End(xlUp).row\n",
    "Sheets(\"Sheet1\").Range(\"A1:G\" & i).Sort key1:=Range(\"C1\"), order1:=xlDescending, _\n",
    "        key2:=Range(\"B1\"), order2:=xlAscending, key3:=Range(\"A1\"), order3:=xlAscending, Header:=xlYes"
   ]
  },
  {
   "cell_type": "markdown",
   "metadata": {},
   "source": [
    "## 尋找相關語法"
   ]
  },
  {
   "cell_type": "markdown",
   "metadata": {},
   "source": [
    "Find cells with string \"Pig\" in column B<br>\n",
    "Do something if rng is not empty(meaning there is at least one cell with \"Pig\")"
   ]
  },
  {
   "cell_type": "code",
   "execution_count": null,
   "metadata": {},
   "outputs": [],
   "source": [
    "Dim rng As Range\n",
    "Set rng = Sheets(\"Sheet1\").Range(\"B:B\").Find(\"Pig\", lookat:=xlPart)\n",
    "If Not rng Is Nothing Then\n",
    "...\n",
    "End If"
   ]
  },
  {
   "cell_type": "markdown",
   "metadata": {},
   "source": [
    "Find cells equal to string \"Pig\" in column B<br>\n",
    "Do something if rng is empty(meaning there is no cell equals to \"Pig\")"
   ]
  },
  {
   "cell_type": "code",
   "execution_count": null,
   "metadata": {},
   "outputs": [],
   "source": [
    "Set rng = Sheets(\"Sheet1\").Range(\"B:B\").Find(\"Pig\", lookat:=xlWhole)\n",
    "If rng Is Nothing Then\n",
    "...\n",
    "End If"
   ]
  },
  {
   "cell_type": "markdown",
   "metadata": {},
   "source": [
    "## 字串相關語法"
   ]
  },
  {
   "cell_type": "markdown",
   "metadata": {},
   "source": [
    "### 搜尋字串位置"
   ]
  },
  {
   "cell_type": "markdown",
   "metadata": {},
   "source": [
    "Find position of substring in string <br>\n",
    "預設大小寫視同不同, 增加比對方式參數來將字母大小寫視為相同"
   ]
  },
  {
   "cell_type": "code",
   "execution_count": null,
   "metadata": {},
   "outputs": [],
   "source": [
    "Dim pos As Integer\n",
    "pos = InStr(\"Hello, World.\", \"world\", vbTextCompare)  # pos=8"
   ]
  },
  {
   "cell_type": "markdown",
   "metadata": {},
   "source": [
    "### 擷取字串"
   ]
  },
  {
   "cell_type": "code",
   "execution_count": null,
   "metadata": {},
   "outputs": [],
   "source": [
    "' 從左邊擷取5個字\n",
    "Dim word as String \n",
    "word = Left(\"Hello, world.\", 5)  # word = Hello\n",
    "' 從右邊擷取6個\n",
    "word = Right(\"Hello, world.\", 6)  # word = world.\n",
    "' 從第6個字元開始擷取2個\n",
    "word = Mid(\"This is a message.\", 6, 2)  # word = is\n",
    "' 從第6個字元開始擷取至最後\n",
    "word = Mid(\"This is a message.\", 6)  # word = is a message."
   ]
  },
  {
   "cell_type": "markdown",
   "metadata": {},
   "source": [
    "### 移除空白"
   ]
  },
  {
   "cell_type": "code",
   "execution_count": null,
   "metadata": {},
   "outputs": [],
   "source": [
    "' Remove space at left side\n",
    "Dim mystr, newstr as String\n",
    "mystr = \"  Hello!  \"\n",
    "LTrim(mystr)\n",
    "' Remove space at right side\n",
    "RTrim(mystr)\n",
    "' Remove space from both sides\n",
    "mystr = Trim(mystr)"
   ]
  },
  {
   "cell_type": "markdown",
   "metadata": {},
   "source": [
    "### 取代字串"
   ]
  },
  {
   "cell_type": "code",
   "execution_count": null,
   "metadata": {},
   "outputs": [],
   "source": [
    "' Remove () at the end of string\n",
    "Dim pn as String\n",
    "pn = ActiveSheet.Range(\"A2\").Value\n",
    "If InStr(pn, \"(\") > 0 Then\n",
    "    ActiveSheet.Range(\"A2\").Value = Mid(pn, 1, InStr(pn, \"(\") - 1)\n",
    "End If"
   ]
  },
  {
   "cell_type": "markdown",
   "metadata": {},
   "source": [
    "## 取代相關語法"
   ]
  },
  {
   "cell_type": "markdown",
   "metadata": {},
   "source": [
    "Replace \"$\" with \"*\" in Column C"
   ]
  },
  {
   "cell_type": "code",
   "execution_count": null,
   "metadata": {},
   "outputs": [],
   "source": [
    "Sheets(\"Sheet1\").Range(\"C2:C\" & .Range(\"C2\").End(xlDown).row).Replace \"$\", \"*\""
   ]
  },
  {
   "cell_type": "markdown",
   "metadata": {},
   "source": [
    "Remove \"%\" in column C"
   ]
  },
  {
   "cell_type": "code",
   "execution_count": null,
   "metadata": {},
   "outputs": [],
   "source": [
    "Sheets(\"Sheet1\").Range(\"C2:C\" & .Range(\"C2\").End(xlDown).row).Replace \"%\", \"\""
   ]
  },
  {
   "cell_type": "markdown",
   "metadata": {},
   "source": [
    "## 插入資料列相關語法"
   ]
  },
  {
   "cell_type": "markdown",
   "metadata": {},
   "source": [
    "Insert one row before row 5 (original row 5 will become row 6)"
   ]
  },
  {
   "cell_type": "code",
   "execution_count": null,
   "metadata": {},
   "outputs": [],
   "source": [
    "Sheets(\"Sheet1\").rows(5).Insert Shift:=xlDown, CopyOrigin:=xlFormatFromLeftOrAbove"
   ]
  },
  {
   "cell_type": "markdown",
   "metadata": {},
   "source": [
    "Insert three columns before column A (original column A will become column D)"
   ]
  },
  {
   "cell_type": "code",
   "execution_count": null,
   "metadata": {},
   "outputs": [],
   "source": [
    "Sheets(\"Sheet1\").Columns(\"A:C\").Insert Shift:=xlToRight, CopyOrigin:=xlFormatFromLeftOrAbove"
   ]
  },
  {
   "cell_type": "markdown",
   "metadata": {},
   "source": [
    "## 更新資料相關語法"
   ]
  },
  {
   "cell_type": "markdown",
   "metadata": {},
   "source": [
    "Refresh data source in Pivot Table"
   ]
  },
  {
   "cell_type": "code",
   "execution_count": null,
   "metadata": {},
   "outputs": [],
   "source": [
    "Sheets(\"Pivot Table\").PivotTables(\"樞紐分析表1\").PivotCache.Refresh"
   ]
  },
  {
   "cell_type": "markdown",
   "metadata": {},
   "source": [
    "## 借用Excel函數相關語法"
   ]
  },
  {
   "cell_type": "markdown",
   "metadata": {},
   "source": [
    "sum"
   ]
  },
  {
   "cell_type": "code",
   "execution_count": null,
   "metadata": {},
   "outputs": [],
   "source": [
    "total = Application.WorksheetFunction.Sum(Range(\"A1:C1\"))"
   ]
  },
  {
   "cell_type": "markdown",
   "metadata": {},
   "source": [
    "## 格式相關語法"
   ]
  },
  {
   "cell_type": "markdown",
   "metadata": {},
   "source": [
    "Change font color"
   ]
  },
  {
   "cell_type": "code",
   "execution_count": null,
   "metadata": {},
   "outputs": [],
   "source": [
    "With ActiveSheet.Range(\"A\").Font\n",
    "    .ThemeColor = xlThemeColorLight1\n",
    "    .TintAndShade = 0\n",
    "End With"
   ]
  },
  {
   "cell_type": "markdown",
   "metadata": {},
   "source": [
    "Change background color to yellow"
   ]
  },
  {
   "cell_type": "code",
   "execution_count": null,
   "metadata": {},
   "outputs": [],
   "source": [
    "ActiveSheet.Range(\"A1\").Interior.Color = 65535"
   ]
  },
  {
   "cell_type": "markdown",
   "metadata": {},
   "source": [
    "Add double line at the bottom border"
   ]
  },
  {
   "cell_type": "code",
   "execution_count": null,
   "metadata": {},
   "outputs": [],
   "source": [
    "ActiveSheet.Range(\"A1\").Borders(xlEdgeBottom).LineStyle = xlDouble"
   ]
  },
  {
   "cell_type": "markdown",
   "metadata": {},
   "source": [
    "Mark red if value is less than 0"
   ]
  },
  {
   "cell_type": "code",
   "execution_count": null,
   "metadata": {},
   "outputs": [],
   "source": [
    "ActiveSheet.Range(\"A2:\" & Chr(totalColumn + 64) & totalRow).NumberFormatLocal = \"#,##0_ ;[紅色]-#,##0 \""
   ]
  },
  {
   "cell_type": "markdown",
   "metadata": {},
   "source": [
    "Autofit columns"
   ]
  },
  {
   "cell_type": "code",
   "execution_count": null,
   "metadata": {},
   "outputs": [],
   "source": [
    "ActiveSheet.Cells.EntireColumn.AutoFit"
   ]
  },
  {
   "cell_type": "markdown",
   "metadata": {},
   "source": [
    "## 群組相關語法"
   ]
  },
  {
   "cell_type": "markdown",
   "metadata": {},
   "source": [
    "打開群組"
   ]
  },
  {
   "cell_type": "code",
   "execution_count": null,
   "metadata": {},
   "outputs": [],
   "source": [
    "ActiveSheet.Outline.ShowLevels RowLevels:=0, ColumnLevels:=2"
   ]
  },
  {
   "cell_type": "markdown",
   "metadata": {},
   "source": [
    "收起群組"
   ]
  },
  {
   "cell_type": "code",
   "execution_count": null,
   "metadata": {},
   "outputs": [],
   "source": [
    "ActiveSheet.Outline.ShowLevels RowLevels:=0, ColumnLevels:=1"
   ]
  },
  {
   "cell_type": "markdown",
   "metadata": {},
   "source": [
    "## 判斷式相關語法"
   ]
  },
  {
   "cell_type": "markdown",
   "metadata": {},
   "source": [
    "If.. elseif...else (可只有if判斷式)"
   ]
  },
  {
   "cell_type": "code",
   "execution_count": null,
   "metadata": {},
   "outputs": [],
   "source": [
    "If ...  Then\n",
    "ElseIf ... Then\n",
    "Else\n",
    "End If"
   ]
  },
  {
   "cell_type": "markdown",
   "metadata": {},
   "source": [
    "## 迴圈相關語法"
   ]
  },
  {
   "cell_type": "markdown",
   "metadata": {},
   "source": [
    "Exit for 跳出迴圈"
   ]
  },
  {
   "cell_type": "code",
   "execution_count": null,
   "metadata": {},
   "outputs": [],
   "source": [
    "For i = 10 to 1 Step -1\n",
    "    ...\n",
    "    If count >= 0 And count <> 5 Then\n",
    "        Exit For\n",
    "    End If\n",
    "    ...\n",
    "Next"
   ]
  },
  {
   "cell_type": "markdown",
   "metadata": {},
   "source": [
    "## 增加運行速度的方法"
   ]
  },
  {
   "cell_type": "markdown",
   "metadata": {},
   "source": [
    "### 使用With...End With"
   ]
  },
  {
   "cell_type": "code",
   "execution_count": null,
   "metadata": {},
   "outputs": [],
   "source": [
    "With Worksheets(\"Sheet3\")\n",
    "    .AutoFilterMode = False\n",
    "    .Range(\"2:\" & Range(\"A2\").End(xlDown).row).Delete\n",
    "End With"
   ]
  },
  {
   "cell_type": "markdown",
   "metadata": {},
   "source": [
    "### 運行前關閉螢幕更新 (運行後再打開)"
   ]
  },
  {
   "cell_type": "code",
   "execution_count": null,
   "metadata": {},
   "outputs": [],
   "source": [
    "Application.ScreenUpdating = False\n",
    "Application.ScreenUpdating = True"
   ]
  },
  {
   "cell_type": "markdown",
   "metadata": {},
   "source": [
    "## 計時器相關語法"
   ]
  },
  {
   "cell_type": "markdown",
   "metadata": {},
   "source": [
    "Set timer<br />vbCrLf代表對話框換行"
   ]
  },
  {
   "cell_type": "code",
   "execution_count": null,
   "metadata": {},
   "outputs": [],
   "source": [
    "t0 = Timer  ' put at the beginning\n",
    "t0 = Timer - t0    ' put at the end\n",
    "MsgBox \"Complete! \" & vbCrLf & \"Total running time: \" & t0 \\ 60 & \"mins \" & t0 Mod 60 & \"secs.\""
   ]
  }
 ],
 "metadata": {
  "language_info": {
   "name": "python",
   "codemirror_mode": {
    "name": "ipython",
    "version": 3
   },
   "version": "3.7.6-final"
  },
  "orig_nbformat": 2,
  "file_extension": ".py",
  "mimetype": "text/x-python",
  "name": "python",
  "npconvert_exporter": "python",
  "pygments_lexer": "ipython3",
  "version": 3,
  "kernelspec": {
   "name": "python3",
   "display_name": "Python 3"
  }
 },
 "nbformat": 4,
 "nbformat_minor": 2
}